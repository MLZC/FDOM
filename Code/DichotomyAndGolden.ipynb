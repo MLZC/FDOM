{
 "cells": [
  {
   "cell_type": "code",
   "execution_count": 15,
   "metadata": {},
   "outputs": [],
   "source": [
    "import numpy as np\n",
    "import math\n",
    "import matplotlib.pyplot as plt"
   ]
  },
  {
   "cell_type": "code",
   "execution_count": 16,
   "metadata": {},
   "outputs": [
    {
     "name": "stdout",
     "output_type": "stream",
     "text": [
      "Input a:10\n",
      "Input b:2\n"
     ]
    }
   ],
   "source": [
    "a = float(input(\"Input a:\"))\n",
    "b = float(input(\"Input b:\"))"
   ]
  },
  {
   "cell_type": "code",
   "execution_count": 3,
   "metadata": {},
   "outputs": [],
   "source": [
    "t =(math.sqrt(5)-1) / 2 #invphi"
   ]
  },
  {
   "cell_type": "code",
   "execution_count": 17,
   "metadata": {},
   "outputs": [],
   "source": [
    "def  fx(x):\n",
    "    return a*x+b/np.exp(x)"
   ]
  },
  {
   "cell_type": "code",
   "execution_count": 18,
   "metadata": {},
   "outputs": [],
   "source": [
    "def dfx(x):\n",
    "    return a-b/np.exp(x)"
   ]
  },
  {
   "cell_type": "code",
   "execution_count": 19,
   "metadata": {},
   "outputs": [],
   "source": [
    "def GoldenSectionSearchMethod(fx,lp,rp,epsilon):\n",
    "    \n",
    "    '''\n",
    "     Parameters:\n",
    "     fx: target  function\n",
    "     lp: left point\n",
    "     rp: right point\n",
    "     epsilon: precision\n",
    "     return: minimum_point, minimum_value\n",
    "    '''\n",
    "    G = np.zeros((1000, 4))\n",
    "    delta = rp - lp\n",
    "    t = (math.sqrt(5)-1)/2\n",
    "    x1 = lp + (1-t)*delta\n",
    "    x2 = lp + t*delta\n",
    "    fxx1 = fx(x1)\n",
    "    fxx2 = fx(x2)\n",
    "    k = 0\n",
    "    G[k] = [lp,x1,x2,rp]\n",
    "    while abs(rp-lp) > epsilon: \n",
    "        print(\"iteration\",k)\n",
    "        print(G[k])\n",
    "        if fxx1 < fxx2:\n",
    "            rp=x2\n",
    "            x2 = x1\n",
    "            fxx2 = fxx1\n",
    "            x1 = lp + (1-t)*(rp-lp)\n",
    "            fxx1 = fx(x1)\n",
    "        else:\n",
    "            lp = x1\n",
    "            x1 = x2\n",
    "            fxx1 = fxx2\n",
    "            x2=lp+t*(rp-lp)\n",
    "            fxx2=fx(x2)\n",
    "        k = k + 1\n",
    "        G[k] = lp, x1, x2, rp\n",
    "    min_point = (x1+x2)/2\n",
    "    min_value = fx(min_point)\n",
    "    return min_value, min_point,G[k]\n",
    "\n",
    "\n",
    "def GoldenSearchRecursiveMethod(fx,lp,x1,x2,rp):\n",
    "    y1 = fx(x1)\n",
    "    y2 = fx(x2)\n",
    "    if abs(rp-lp)<1e-5:\n",
    "        return (x1+x2)/2\n",
    "    if y1<y2:\n",
    "        return GoldenSearchRecursiveMethod(fx,lp,lp+(1-t)*(x2-lp),lp+t*(x2-lp),x2)\n",
    "    if y1>y2:\n",
    "        return GoldenSearchRecursiveMethod(fx,x1, x1 + (1-t)*(rp - x1), x1 + t*(rp - x1),rp)\n",
    "    if y1==y2:\n",
    "        return GoldenSearchRecursiveMethod(fx,x1,x1+(1-t)*(x2-x1), x1+t*(x2-x1), x2)"
   ]
  },
  {
   "cell_type": "code",
   "execution_count": 20,
   "metadata": {},
   "outputs": [
    {
     "name": "stdout",
     "output_type": "stream",
     "text": [
      "iteration 0\n",
      "[-100.          -23.60679775   23.60679775  100.        ]\n",
      "iteration 1\n",
      "[-23.60679775  23.60679775  52.7864045  100.        ]\n",
      "iteration 2\n",
      "[-23.60679775   5.572809    23.60679775  52.7864045 ]\n",
      "iteration 3\n",
      "[-23.60679775  -5.572809     5.572809    23.60679775]\n",
      "iteration 4\n",
      "[-5.572809    5.572809   12.46117975 23.60679775]\n",
      "iteration 5\n",
      "[-5.572809    1.31556175  5.572809   12.46117975]\n",
      "iteration 6\n",
      "[-5.572809   -1.31556175  1.31556175  5.572809  ]\n",
      "iteration 7\n",
      "[-5.572809   -2.9416855  -1.31556175  1.31556175]\n",
      "iteration 8\n",
      "[-2.9416855  -1.31556175 -0.310562    1.31556175]\n",
      "iteration 9\n",
      "[-2.9416855  -1.93668575 -1.31556175 -0.310562  ]\n",
      "iteration 10\n",
      "[-1.93668575 -1.31556175 -0.931686   -0.310562  ]\n",
      "iteration 11\n",
      "[-1.93668575 -1.55281001 -1.31556175 -0.931686  ]\n",
      "iteration 12\n",
      "[-1.93668575 -1.69943749 -1.55281001 -1.31556175]\n",
      "iteration 13\n",
      "[-1.69943749 -1.55281001 -1.46218924 -1.31556175]\n",
      "iteration 14\n",
      "[-1.69943749 -1.60881672 -1.55281001 -1.46218924]\n",
      "iteration 15\n",
      "[-1.69943749 -1.64343078 -1.60881672 -1.55281001]\n",
      "iteration 16\n",
      "[-1.64343078 -1.60881672 -1.58742406 -1.55281001]\n",
      "iteration 17\n",
      "[-1.64343078 -1.62203812 -1.60881672 -1.58742406]\n",
      "iteration 18\n",
      "[-1.62203812 -1.60881672 -1.60064545 -1.58742406]\n",
      "iteration 19\n",
      "[-1.62203812 -1.61386685 -1.60881672 -1.60064545]\n",
      "iteration 20\n",
      "[-1.61386685 -1.60881672 -1.60569558 -1.60064545]\n",
      "iteration 21\n",
      "[-1.61386685 -1.6107457  -1.60881672 -1.60569558]\n",
      "iteration 22\n",
      "[-1.6107457  -1.60881672 -1.60762455 -1.60569558]\n",
      "iteration 23\n",
      "[-1.6107457  -1.60955353 -1.60881672 -1.60762455]\n",
      "iteration 24\n",
      "[-1.6107457  -1.6100089  -1.60955353 -1.60881672]\n",
      "iteration 25\n",
      "[-1.6100089  -1.60955353 -1.60927209 -1.60881672]\n",
      "iteration 26\n",
      "[-1.6100089  -1.60972746 -1.60955353 -1.60927209]\n",
      "iteration 27\n",
      "[-1.60972746 -1.60955353 -1.60944603 -1.60927209]\n",
      "iteration 28\n",
      "[-1.60955353 -1.60944603 -1.60937959 -1.60927209]\n",
      "iteration 29\n",
      "[-1.60955353 -1.60948709 -1.60944603 -1.60937959]\n",
      "iteration 30\n",
      "[-1.60948709 -1.60944603 -1.60942065 -1.60937959]\n",
      "iteration 31\n",
      "[-1.60948709 -1.60946171 -1.60944603 -1.60942065]\n",
      "iteration 32\n",
      "[-1.60946171 -1.60944603 -1.60943634 -1.60942065]\n",
      "iteration 33\n",
      "[-1.60944603 -1.60943634 -1.60943035 -1.60942065]\n",
      "iteration 34\n",
      "[-1.60944603 -1.60944004 -1.60943634 -1.60943035]\n",
      "min_value=-6.094379, min_point=-1.609435\n",
      "dfx(min_point)= 2.7208191424321626e-05\n"
     ]
    }
   ],
   "source": [
    "min_value,min_point,_ = GoldenSectionSearchMethod(fx, float(-100), float(100), 1e-5)\n",
    "print(\"min_value=%f, min_point=%f\"% (min_value,min_point))\n",
    "print(\"dfx(min_point)=\",dfx(min_point))"
   ]
  },
  {
   "cell_type": "code",
   "execution_count": 21,
   "metadata": {},
   "outputs": [
    {
     "data": {
      "image/png": "[encoded data removed]",
      "text/plain": [
       "<Figure size 432x288 with 1 Axes>"
      ]
     },
     "metadata": {
      "needs_background": "light"
     },
     "output_type": "display_data"
    }
   ],
   "source": [
    "xaxis=np.linspace(-5,5,1000)\n",
    "plt.plot(xaxis,fx(xaxis))\n",
    "plt.plot(min_point,fx(min_point),'r+')\n",
    "plt.show()"
   ]
  },
  {
   "cell_type": "code",
   "execution_count": 22,
   "metadata": {},
   "outputs": [],
   "source": [
    "lp=float(-100)\n",
    "rp=float(100)\n",
    "x1=lp+(1-t)*(rp-lp)\n",
    "x2=lp+t*(rp-lp)\n",
    "x=GoldenSearchRecursiveMethod(fx,lp,x1,x2,rp)"
   ]
  },
  {
   "cell_type": "code",
   "execution_count": 23,
   "metadata": {},
   "outputs": [
    {
     "name": "stdout",
     "output_type": "stream",
     "text": [
      "min_value=-6.094379, min_point=-1.609435\n",
      "dfx(min_point)= 2.7208191436756124e-05\n"
     ]
    }
   ],
   "source": [
    "print(\"min_value=%f, min_point=%f\"% (fx(x),x))\n",
    "print(\"dfx(min_point)=\",dfx(x))"
   ]
  },
  {
   "cell_type": "code",
   "execution_count": 24,
   "metadata": {},
   "outputs": [
    {
     "data": {
      "image/png": "[encoded data removed]",
      "text/plain": [
       "<Figure size 432x288 with 1 Axes>"
      ]
     },
     "metadata": {
      "needs_background": "light"
     },
     "output_type": "display_data"
    }
   ],
   "source": [
    "xaxis=np.linspace(-5,5,1000)\n",
    "plt.plot(xaxis,fx(xaxis))\n",
    "plt.plot(x,fx(x),'r+')\n",
    "plt.show()"
   ]
  },
  {
   "cell_type": "code",
   "execution_count": 25,
   "metadata": {},
   "outputs": [],
   "source": [
    "def DichotomyMethod(fx,lp,rp,epsilon,small):\n",
    "    x1=(rp+lp)/2-small\n",
    "    x2=(rp+lp)/2+small\n",
    "    y1=fx(x1)\n",
    "    y2=fx(x2)\n",
    "#     print(x1,y1,x2,y2)\n",
    "    if abs(rp-lp)<epsilon:\n",
    "        return (x1+x2)/2\n",
    "    if y1<y2:\n",
    "        return DichotomyMethod(fx,lp,x2,epsilon,small)\n",
    "    if y1>y2:\n",
    "        return DichotomyMethod(fx,x1,rp,epsilon,small)\n",
    "    if y1==y2:\n",
    "        return (x1+x2)/2"
   ]
  },
  {
   "cell_type": "code",
   "execution_count": 26,
   "metadata": {},
   "outputs": [
    {
     "name": "stdout",
     "output_type": "stream",
     "text": [
      "min_value=-6.094379, min_point=-1.609438\n",
      "dfx(min_point)= 1.3108092389302328e-10\n"
     ]
    }
   ],
   "source": [
    "x=DichotomyMethod(fx,float(-100),float(100),1e-5,1e-5)\n",
    "print(\"min_value=%f, min_point=%f\"% (fx(x),x))\n",
    "print(\"dfx(min_point)=\",dfx(x))"
   ]
  },
  {
   "cell_type": "code",
   "execution_count": 27,
   "metadata": {
    "scrolled": true
   },
   "outputs": [
    {
     "data": {
      "image/png": "[encoded data removed]",
      "text/plain": [
       "<Figure size 432x288 with 1 Axes>"
      ]
     },
     "metadata": {
      "needs_background": "light"
     },
     "output_type": "display_data"
    }
   ],
   "source": [
    "xaxis=np.linspace(-5,5,1000)\n",
    "plt.plot(xaxis,fx(xaxis))\n",
    "plt.plot(x,fx(x),'r+')\n",
    "plt.show()"
   ]
  },
  {
   "cell_type": "code",
   "execution_count": null,
   "metadata": {},
   "outputs": [],
   "source": []
  }
 ],
 "metadata": {
  "kernelspec": {
   "display_name": "Python 3",
   "language": "python",
   "name": "python3"
  },
  "language_info": {
   "codemirror_mode": {
    "name": "ipython",
    "version": 3
   },
   "file_extension": ".py",
   "mimetype": "text/x-python",
   "name": "python",
   "nbconvert_exporter": "python",
   "pygments_lexer": "ipython3",
   "version": "3.7.3"
  }
 },
 "nbformat": 4,
 "nbformat_minor": 2
}
